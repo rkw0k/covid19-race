{
 "cells": [
  {
   "cell_type": "code",
   "execution_count": 1,
   "metadata": {},
   "outputs": [
    {
     "data": {
      "text/html": [
       "<style>.container { width:100% !important; }</style>"
      ],
      "text/plain": [
       "<IPython.core.display.HTML object>"
      ]
     },
     "metadata": {},
     "output_type": "display_data"
    }
   ],
   "source": [
    "from IPython.core.display import display, HTML\n",
    "display(HTML(\"<style>.container { width:100% !important; }</style>\"))"
   ]
  },
  {
   "cell_type": "code",
   "execution_count": 2,
   "metadata": {},
   "outputs": [],
   "source": [
    "import pandas as pd\n",
    "from datetime import datetime, timedelta\n",
    "import io\n",
    "import requests\n",
    "import matplotlib.pyplot as plt\n",
    "import seaborn as sns\n",
    "import matplotlib.dates as mdates\n",
    "%matplotlib inline\n",
    "\n",
    "def get_df(date):\n",
    "    base = date - timedelta(days=1)\n",
    "    d = base.strftime(\"%m-%d-%Y\")\n",
    "    url = \"https://raw.githubusercontent.com/CSSEGISandData/COVID-19/master/csse_covid_19_data/csse_covid_19_daily_reports/{}.csv\"\n",
    "    s = requests.get(url.format(d)).content\n",
    "    return (base, pd.read_csv(io.StringIO(s.decode('utf-8'))))\n",
    "\n",
    "def get_counts(df):\n",
    "    key_state, key_us = \"Province_State\", \"Country_Region\"\n",
    "    if key_state in df.columns:\n",
    "        key_state, key_us = key_state, key_us\n",
    "    else:\n",
    "        key_state, key_us = key_state.replace(\"_\", \"/\"), key_us.replace(\"_\", \"/\")\n",
    "        \n",
    "    ca_mask, ny_mask, us_mask = df[key_state] == STATE1, df[key_state] == STATE2, df[key_us] == \"US\"\n",
    "    return [df[ca_mask][\"Confirmed\"].sum(), df[ny_mask][\"Confirmed\"].sum(), df[us_mask][\"Confirmed\"].sum()]\n",
    "\n",
    "def get_perc(c):\n",
    "    # ca1, ny1, us1, ca2, ny2, us2 = c\n",
    "    percentages = [(c[3] - c[0]) / c[0], (c[4] - c[1]) / c[1], (c[5] - c[2]) / c[2]]\n",
    "    return [round(100 * x, 2) for x in percentages]\n",
    "\n",
    "def get_df_list(month, day, past):\n",
    "    date_list = [datetime(2020, month, day) - timedelta(days=x) for x in range(past)]\n",
    "    return [get_df(date) for date in date_list]\n",
    "\n",
    "def get_data(df_list):\n",
    "    date_counts, date_percs = [], []\n",
    "    for date, df in df_list:\n",
    "        c = get_counts(df)\n",
    "        date_counts.append((date, [c[0], c[1], c[2]]))\n",
    "    for i in range(len(date_counts) - 1, 0, -1):\n",
    "        perc = get_perc(date_counts[i][1] + date_counts[i - 1][1])\n",
    "        date_percs.append((date_counts[i-1][0], perc))\n",
    "    state1 = [p[1][0] for p in date_percs], [c[1][0] for c in date_counts[1:]]\n",
    "    state2 = [p[1][1] for p in date_percs], [c[1][1] for c in date_counts[1:]]\n",
    "    us = [p[1][2] for p in date_percs], [c[1][2] for c in date_counts[1:]]\n",
    "    return state1, state2, us\n",
    "\n",
    "def perc_count_pairs(time_data, y_data):\n",
    "    fig, (ax1, ax2) = plt.subplots(2, sharex=True, figsize=(12,8))\n",
    "    zipped = [[(ax1, p), (ax2, c)] for (p, c) in y_data]\n",
    "    for (ax1, y1), (ax2, y2) in zipped:\n",
    "        delta = timedelta(days=1)\n",
    "        plt.gca().xaxis.set_major_formatter(mdates.DateFormatter('%m/%d/%Y'))\n",
    "        plt.gca().xaxis.set_major_locator(mdates.DayLocator(interval=3))        \n",
    "        ax1.set_xlim([min(time_data) - delta, max(time_data) + delta])\n",
    "        ax1.plot_date(time_data, y1);\n",
    "        ax1.set_ylabel(f\"Daily % Increase\")\n",
    "        ax2.set_ylabel(f\"Number of Cases\")\n",
    "        ax2.plot_date(time_data, y2);\n",
    "        legend = (f\"{STATE1}\", f\"{STATE2}\", \"US\")\n",
    "        ax1.legend(legend)\n",
    "        ax2.legend(legend)"
   ]
  },
  {
   "cell_type": "code",
   "execution_count": 7,
   "metadata": {},
   "outputs": [],
   "source": [
    "# gis_data = df_list.copy()\n",
    "gis_data = get_df_list(4, 5, 21)\n",
    "time_data = [date for date, _ in gis_data[0:-1:]]"
   ]
  },
  {
   "cell_type": "code",
   "execution_count": 9,
   "metadata": {},
   "outputs": [
    {
     "data": {
      "image/png": "[encoded data removed]",
      "text/plain": [
       "<Figure size 864x576 with 2 Axes>"
      ]
     },
     "metadata": {
      "needs_background": "light"
     },
     "output_type": "display_data"
    }
   ],
   "source": [
    "STATE1 = \"Louisiana\"\n",
    "STATE2 = \"Florida\"\n",
    "y_data = get_data(gis_data)\n",
    "perc_count_pairs(time_data, y_data[:-1])"
   ]
  },
  {
   "cell_type": "code",
   "execution_count": 20,
   "metadata": {},
   "outputs": [],
   "source": [
    "def get_all_states(df):\n",
    "    all_states = list(set(df[df[\"Country_Region\"] == \"US\"][\"Province_State\"]))\n",
    "    all_states.remove(\"Diamond Princess\")\n",
    "    all_states.remove(\"Grand Princess\")\n",
    "    all_states.remove(\"Guam\")\n",
    "    all_states.remove(\"Northern Mariana Islands\")\n",
    "    all_states.remove(\"Recovered\")\n",
    "    all_states.remove(\"Virgin Islands\")\n",
    "    all_states.remove(\"Puerto Rico\")\n",
    "    all_states.remove(\"District of Columbia\")\n",
    "    df_pop = pd.read_csv(\"data/nst-est2019-alldata.csv\")\n",
    "    df_pop = df_pop[df_pop.NAME.isin(all_states)]\n",
    "    state_pop = dict(df_pop[[\"NAME\", \"POPESTIMATE2018\"]].values)\n",
    "    return all_states, state_pop\n",
    "\n",
    "def group_per_df(gis_data):\n",
    "    grouped_state_df_list = []\n",
    "    for date, df in gis_data:\n",
    "        if key1 in df.columns:\n",
    "            key = key1\n",
    "        else:\n",
    "            key = key2\n",
    "        state_df = df[df[key].isin(all_states)]\n",
    "        grouped_state_df = state_df[[key, \"Confirmed\"]].groupby(key).sum().reset_index()\n",
    "        grouped_state_df[\"population\"] = [state_pop[x] for x in grouped_state_df[key]]\n",
    "        grouped_state_df[\"percentage\"] = round(1000000 * grouped_state_df[\"Confirmed\"] / grouped_state_df[\"population\"], 3)\n",
    "        grouped_state_df[\"1_in_x\"] = round(grouped_state_df[\"population\"] / grouped_state_df[\"Confirmed\"])\n",
    "        grouped_state_df.sort_values(by=\"percentage\", ascending=False, inplace=True)\n",
    "        grouped_state_df_list.append((date, grouped_state_df))\n",
    "    return grouped_state_df_list"
   ]
  },
  {
   "cell_type": "code",
   "execution_count": 24,
   "metadata": {},
   "outputs": [],
   "source": [
    "def get_csv(grouped_state_df_list, all_states, metric=\"percentage\"):\n",
    "    N = len(grouped_state_df_list)\n",
    "    all_dates = [grouped_state_df_list[i][0].strftime(\"%B %d\") for i in range(N)]\n",
    "    count_dict = [{\"state\": None, \"url\": None} for i in range(N)]\n",
    "    [count_dict[i].update({date: None for date in all_dates}) for i in range(N)]\n",
    "    state_dict = {s: {\"state\": s} for s in all_states}\n",
    "    [d.update({date: 0 for date in all_dates[::-1]}) for d in state_dict.values()]\n",
    "\n",
    "    for i in range(N):\n",
    "        date_string = grouped_state_df_list[i][0].strftime(\"%B %d\")\n",
    "        key = key1 if (key1 in grouped_state_df_list[i][1].columns) else key2\n",
    "        df_temp = grouped_state_df_list[i][1][[key, metric]]\n",
    "        data_list = df_temp.values.tolist()\n",
    "        for state, count in data_list:\n",
    "            state_dict[state][date_string] = count\n",
    "    return state_dict\n",
    "\n",
    "key1, key2 = \"Province_State\", \"Province/State\"\n",
    "all_states, state_pop = get_all_states(gis_data[0][1])\n",
    "grouped_state_df_list = group_per_df(gis_data)\n",
    "perc_dict = get_csv(grouped_state_df_list, all_states, \"percentage\")\n",
    "my_df = pd.DataFrame(perc_dict.values())\n",
    "base_flag_url = 'https://raw.githubusercontent.com/CivilServiceUSA/us-states/master/images/flags/{state_name}-large.png'\n",
    "my_df['url'] = [base_flag_url.format(state_name=state.replace(\" \", \"-\").lower()) for state in all_states]\n",
    "my_df.to_csv(r'rate_data.csv', index=False)"
   ]
  },
  {
   "cell_type": "code",
   "execution_count": 26,
   "metadata": {},
   "outputs": [],
   "source": [
    "count_dict = get_csv(grouped_state_df_list, all_states, \"Confirmed\")\n",
    "base_flag_url = 'https://raw.githubusercontent.com/CivilServiceUSA/us-states/master/images/flags/{state_name}-large.png'\n",
    "my_df = pd.DataFrame(count_dict.values())\n",
    "my_df['url'] = [base_flag_url.format(state_name=state.replace(\" \", \"-\").lower()) for state in all_states]\n",
    "my_df.to_csv(r'count_data.csv', index=False)"
   ]
  },
  {
   "cell_type": "code",
   "execution_count": null,
   "metadata": {},
   "outputs": [],
   "source": []
  }
 ],
 "metadata": {
  "kernelspec": {
   "display_name": "Python 3",
   "language": "python",
   "name": "python3"
  },
  "language_info": {
   "codemirror_mode": {
    "name": "ipython",
    "version": 3
   },
   "file_extension": ".py",
   "mimetype": "text/x-python",
   "name": "python",
   "nbconvert_exporter": "python",
   "pygments_lexer": "ipython3",
   "version": "3.7.4"
  }
 },
 "nbformat": 4,
 "nbformat_minor": 4
}
